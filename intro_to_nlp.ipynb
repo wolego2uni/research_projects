{
  "nbformat": 4,
  "nbformat_minor": 0,
  "metadata": {
    "colab": {
      "name": "intro_to_nlp.ipynb",
      "provenance": [],
      "collapsed_sections": [],
      "authorship_tag": "ABX9TyN2K81uZHdr3j66hb155ggh",
      "include_colab_link": true
    },
    "kernelspec": {
      "name": "python3",
      "display_name": "Python 3"
    },
    "language_info": {
      "name": "python"
    }
  },
  "cells": [
    {
      "cell_type": "markdown",
      "metadata": {
        "id": "view-in-github",
        "colab_type": "text"
      },
      "source": [
        "<a href=\"https://colab.research.google.com/github/wolego2uni/research_projects/blob/main/intro_to_nlp.ipynb\" target=\"_parent\"><img src=\"https://colab.research.google.com/assets/colab-badge.svg\" alt=\"Open In Colab\"/></a>"
      ]
    },
    {
      "cell_type": "code",
      "metadata": {
        "id": "TERXjxfHEjze"
      },
      "source": [
        "!pip install spacy --upgrade"
      ],
      "execution_count": null,
      "outputs": []
    },
    {
      "cell_type": "code",
      "metadata": {
        "colab": {
          "base_uri": "https://localhost:8080/",
          "height": 35
        },
        "id": "-34I44r6Euv9",
        "outputId": "7e76e5b5-a8de-44e9-bef6-fdf59ea29a60"
      },
      "source": [
        "import spacy\n",
        "spacy. __version__"
      ],
      "execution_count": 3,
      "outputs": [
        {
          "output_type": "execute_result",
          "data": {
            "application/vnd.google.colaboratory.intrinsic+json": {
              "type": "string"
            },
            "text/plain": [
              "'3.1.3'"
            ]
          },
          "metadata": {},
          "execution_count": 3
        }
      ]
    },
    {
      "cell_type": "code",
      "metadata": {
        "colab": {
          "base_uri": "https://localhost:8080/"
        },
        "id": "i2KP5eUEEDlk",
        "outputId": "ed9b1362-1159-4bdc-b89a-5715ad6beac1"
      },
      "source": [
        "!python -m spacy download en_core_web_sm"
      ],
      "execution_count": 4,
      "outputs": [
        {
          "output_type": "stream",
          "name": "stdout",
          "text": [
            "Collecting en-core-web-sm==3.1.0\n",
            "  Downloading https://github.com/explosion/spacy-models/releases/download/en_core_web_sm-3.1.0/en_core_web_sm-3.1.0-py3-none-any.whl (13.6 MB)\n",
            "\u001b[K     |████████████████████████████████| 13.6 MB 76 kB/s \n",
            "\u001b[?25hRequirement already satisfied: spacy<3.2.0,>=3.1.0 in /usr/local/lib/python3.7/dist-packages (from en-core-web-sm==3.1.0) (3.1.3)\n",
            "Requirement already satisfied: typing-extensions<4.0.0.0,>=3.7.4 in /usr/local/lib/python3.7/dist-packages (from spacy<3.2.0,>=3.1.0->en-core-web-sm==3.1.0) (3.7.4.3)\n",
            "Requirement already satisfied: blis<0.8.0,>=0.4.0 in /usr/local/lib/python3.7/dist-packages (from spacy<3.2.0,>=3.1.0->en-core-web-sm==3.1.0) (0.4.1)\n",
            "Requirement already satisfied: cymem<2.1.0,>=2.0.2 in /usr/local/lib/python3.7/dist-packages (from spacy<3.2.0,>=3.1.0->en-core-web-sm==3.1.0) (2.0.5)\n",
            "Requirement already satisfied: thinc<8.1.0,>=8.0.9 in /usr/local/lib/python3.7/dist-packages (from spacy<3.2.0,>=3.1.0->en-core-web-sm==3.1.0) (8.0.10)\n",
            "Requirement already satisfied: jinja2 in /usr/local/lib/python3.7/dist-packages (from spacy<3.2.0,>=3.1.0->en-core-web-sm==3.1.0) (2.11.3)\n",
            "Requirement already satisfied: requests<3.0.0,>=2.13.0 in /usr/local/lib/python3.7/dist-packages (from spacy<3.2.0,>=3.1.0->en-core-web-sm==3.1.0) (2.23.0)\n",
            "Requirement already satisfied: preshed<3.1.0,>=3.0.2 in /usr/local/lib/python3.7/dist-packages (from spacy<3.2.0,>=3.1.0->en-core-web-sm==3.1.0) (3.0.5)\n",
            "Requirement already satisfied: wasabi<1.1.0,>=0.8.1 in /usr/local/lib/python3.7/dist-packages (from spacy<3.2.0,>=3.1.0->en-core-web-sm==3.1.0) (0.8.2)\n",
            "Requirement already satisfied: catalogue<2.1.0,>=2.0.6 in /usr/local/lib/python3.7/dist-packages (from spacy<3.2.0,>=3.1.0->en-core-web-sm==3.1.0) (2.0.6)\n",
            "Requirement already satisfied: pydantic!=1.8,!=1.8.1,<1.9.0,>=1.7.4 in /usr/local/lib/python3.7/dist-packages (from spacy<3.2.0,>=3.1.0->en-core-web-sm==3.1.0) (1.8.2)\n",
            "Requirement already satisfied: tqdm<5.0.0,>=4.38.0 in /usr/local/lib/python3.7/dist-packages (from spacy<3.2.0,>=3.1.0->en-core-web-sm==3.1.0) (4.62.2)\n",
            "Requirement already satisfied: setuptools in /usr/local/lib/python3.7/dist-packages (from spacy<3.2.0,>=3.1.0->en-core-web-sm==3.1.0) (57.4.0)\n",
            "Requirement already satisfied: spacy-legacy<3.1.0,>=3.0.8 in /usr/local/lib/python3.7/dist-packages (from spacy<3.2.0,>=3.1.0->en-core-web-sm==3.1.0) (3.0.8)\n",
            "Requirement already satisfied: srsly<3.0.0,>=2.4.1 in /usr/local/lib/python3.7/dist-packages (from spacy<3.2.0,>=3.1.0->en-core-web-sm==3.1.0) (2.4.1)\n",
            "Requirement already satisfied: typer<0.5.0,>=0.3.0 in /usr/local/lib/python3.7/dist-packages (from spacy<3.2.0,>=3.1.0->en-core-web-sm==3.1.0) (0.4.0)\n",
            "Requirement already satisfied: numpy>=1.15.0 in /usr/local/lib/python3.7/dist-packages (from spacy<3.2.0,>=3.1.0->en-core-web-sm==3.1.0) (1.19.5)\n",
            "Requirement already satisfied: packaging>=20.0 in /usr/local/lib/python3.7/dist-packages (from spacy<3.2.0,>=3.1.0->en-core-web-sm==3.1.0) (21.0)\n",
            "Requirement already satisfied: pathy>=0.3.5 in /usr/local/lib/python3.7/dist-packages (from spacy<3.2.0,>=3.1.0->en-core-web-sm==3.1.0) (0.6.0)\n",
            "Requirement already satisfied: murmurhash<1.1.0,>=0.28.0 in /usr/local/lib/python3.7/dist-packages (from spacy<3.2.0,>=3.1.0->en-core-web-sm==3.1.0) (1.0.5)\n",
            "Requirement already satisfied: zipp>=0.5 in /usr/local/lib/python3.7/dist-packages (from catalogue<2.1.0,>=2.0.6->spacy<3.2.0,>=3.1.0->en-core-web-sm==3.1.0) (3.5.0)\n",
            "Requirement already satisfied: pyparsing>=2.0.2 in /usr/local/lib/python3.7/dist-packages (from packaging>=20.0->spacy<3.2.0,>=3.1.0->en-core-web-sm==3.1.0) (2.4.7)\n",
            "Requirement already satisfied: smart-open<6.0.0,>=5.0.0 in /usr/local/lib/python3.7/dist-packages (from pathy>=0.3.5->spacy<3.2.0,>=3.1.0->en-core-web-sm==3.1.0) (5.2.1)\n",
            "Requirement already satisfied: idna<3,>=2.5 in /usr/local/lib/python3.7/dist-packages (from requests<3.0.0,>=2.13.0->spacy<3.2.0,>=3.1.0->en-core-web-sm==3.1.0) (2.10)\n",
            "Requirement already satisfied: chardet<4,>=3.0.2 in /usr/local/lib/python3.7/dist-packages (from requests<3.0.0,>=2.13.0->spacy<3.2.0,>=3.1.0->en-core-web-sm==3.1.0) (3.0.4)\n",
            "Requirement already satisfied: certifi>=2017.4.17 in /usr/local/lib/python3.7/dist-packages (from requests<3.0.0,>=2.13.0->spacy<3.2.0,>=3.1.0->en-core-web-sm==3.1.0) (2021.5.30)\n",
            "Requirement already satisfied: urllib3!=1.25.0,!=1.25.1,<1.26,>=1.21.1 in /usr/local/lib/python3.7/dist-packages (from requests<3.0.0,>=2.13.0->spacy<3.2.0,>=3.1.0->en-core-web-sm==3.1.0) (1.24.3)\n",
            "Requirement already satisfied: click<9.0.0,>=7.1.1 in /usr/local/lib/python3.7/dist-packages (from typer<0.5.0,>=0.3.0->spacy<3.2.0,>=3.1.0->en-core-web-sm==3.1.0) (7.1.2)\n",
            "Requirement already satisfied: MarkupSafe>=0.23 in /usr/local/lib/python3.7/dist-packages (from jinja2->spacy<3.2.0,>=3.1.0->en-core-web-sm==3.1.0) (2.0.1)\n",
            "Installing collected packages: en-core-web-sm\n",
            "  Attempting uninstall: en-core-web-sm\n",
            "    Found existing installation: en-core-web-sm 2.2.5\n",
            "    Uninstalling en-core-web-sm-2.2.5:\n",
            "      Successfully uninstalled en-core-web-sm-2.2.5\n",
            "Successfully installed en-core-web-sm-3.1.0\n",
            "\u001b[38;5;2m✔ Download and installation successful\u001b[0m\n",
            "You can now load the package via spacy.load('en_core_web_sm')\n"
          ]
        }
      ]
    },
    {
      "cell_type": "code",
      "metadata": {
        "id": "spsUyMzfEVc5"
      },
      "source": [
        "import en_core_web_sm"
      ],
      "execution_count": 5,
      "outputs": []
    },
    {
      "cell_type": "code",
      "metadata": {
        "id": "AEXeoVuuEVZ0"
      },
      "source": [
        "nlp=spacy.load('en_core_web_sm')"
      ],
      "execution_count": 6,
      "outputs": []
    },
    {
      "cell_type": "code",
      "metadata": {
        "colab": {
          "base_uri": "https://localhost:8080/"
        },
        "id": "cFFcdzo3EVWI",
        "outputId": "4fa6d9c3-a012-471a-a405-6acb377acb21"
      },
      "source": [
        "nlp"
      ],
      "execution_count": 7,
      "outputs": [
        {
          "output_type": "execute_result",
          "data": {
            "text/plain": [
              "<spacy.lang.en.English at 0x7f6ef93cfb90>"
            ]
          },
          "metadata": {},
          "execution_count": 7
        }
      ]
    },
    {
      "cell_type": "code",
      "metadata": {
        "id": "K5IUj3wVFLK1"
      },
      "source": [
        "sentence= 'I am learning natural language processing. The course is in London'"
      ],
      "execution_count": 8,
      "outputs": []
    },
    {
      "cell_type": "code",
      "metadata": {
        "id": "njXiMjjiFLIU"
      },
      "source": [
        "document=nlp(sentence)"
      ],
      "execution_count": 9,
      "outputs": []
    },
    {
      "cell_type": "markdown",
      "metadata": {
        "id": "Ozp5WSNDL29K"
      },
      "source": [
        "#pos tagging"
      ]
    },
    {
      "cell_type": "code",
      "metadata": {
        "colab": {
          "base_uri": "https://localhost:8080/"
        },
        "id": "_WuEncKLFLCW",
        "outputId": "f980a9f8-9c34-481c-a76f-40f1acc7d62e"
      },
      "source": [
        "for token in document:\n",
        "  print(token.text,token.pos_)"
      ],
      "execution_count": 14,
      "outputs": [
        {
          "output_type": "stream",
          "name": "stdout",
          "text": [
            "I PRON\n",
            "am AUX\n",
            "learning VERB\n",
            "natural ADJ\n",
            "language NOUN\n",
            "processing NOUN\n",
            ". PUNCT\n",
            "The DET\n",
            "course NOUN\n",
            "is AUX\n",
            "in ADP\n",
            "London PROPN\n"
          ]
        }
      ]
    },
    {
      "cell_type": "code",
      "metadata": {
        "colab": {
          "base_uri": "https://localhost:8080/"
        },
        "id": "PyCjguOdFK-0",
        "outputId": "e110a67f-1e58-410e-f76c-7a73bee61e39"
      },
      "source": [
        "for token in document:\n",
        "  print(token.text,token.pos_, token.lemma_,token.tag_, token.shape_, token.is_alpha, token.is_stop)"
      ],
      "execution_count": 15,
      "outputs": [
        {
          "output_type": "stream",
          "name": "stdout",
          "text": [
            "I PRON I PRP X True True\n",
            "am AUX be VBP xx True True\n",
            "learning VERB learn VBG xxxx True False\n",
            "natural ADJ natural JJ xxxx True False\n",
            "language NOUN language NN xxxx True False\n",
            "processing NOUN processing NN xxxx True False\n",
            ". PUNCT . . . False False\n",
            "The DET the DT Xxx True True\n",
            "course NOUN course NN xxxx True False\n",
            "is AUX be VBZ xx True True\n",
            "in ADP in IN xx True True\n",
            "London PROPN London NNP Xxxxx True False\n"
          ]
        }
      ]
    },
    {
      "cell_type": "code",
      "metadata": {
        "colab": {
          "base_uri": "https://localhost:8080/"
        },
        "id": "1rX9DhtPFK7q",
        "outputId": "9157949b-0eec-4cc4-92ad-ffad4ec37d60"
      },
      "source": [
        "for token in document:\n",
        "  if token.pos_=='PROPN':\n",
        "    print(token.text)"
      ],
      "execution_count": 18,
      "outputs": [
        {
          "output_type": "stream",
          "name": "stdout",
          "text": [
            "London\n"
          ]
        }
      ]
    },
    {
      "cell_type": "code",
      "metadata": {
        "colab": {
          "base_uri": "https://localhost:8080/"
        },
        "id": "A3aPyjoYFKtf",
        "outputId": "778c6794-a5f1-4232-df23-fcd6753a5a5e"
      },
      "source": [
        "for token in document:\n",
        "  if token.pos_=='VERB':\n",
        "    print(token.text)"
      ],
      "execution_count": 19,
      "outputs": [
        {
          "output_type": "stream",
          "name": "stdout",
          "text": [
            "learning\n"
          ]
        }
      ]
    },
    {
      "cell_type": "markdown",
      "metadata": {
        "id": "2zkRYiw1L005"
      },
      "source": [
        "# stemming and lemmatization"
      ]
    },
    {
      "cell_type": "code",
      "metadata": {
        "colab": {
          "base_uri": "https://localhost:8080/"
        },
        "id": "pxwIYpvFL0gw",
        "outputId": "13a52b59-e2c2-436f-fc93-1dd67cdbfbf3"
      },
      "source": [
        "for token in document:\n",
        "  print(token.text, token.lemma_)"
      ],
      "execution_count": 20,
      "outputs": [
        {
          "output_type": "stream",
          "name": "stdout",
          "text": [
            "I I\n",
            "am be\n",
            "learning learn\n",
            "natural natural\n",
            "language language\n",
            "processing processing\n",
            ". .\n",
            "The the\n",
            "course course\n",
            "is be\n",
            "in in\n",
            "London London\n"
          ]
        }
      ]
    },
    {
      "cell_type": "code",
      "metadata": {
        "id": "TekAHPheNAvf"
      },
      "source": [
        "doc= nlp('learn learning watch watching watched')"
      ],
      "execution_count": 23,
      "outputs": []
    },
    {
      "cell_type": "code",
      "metadata": {
        "colab": {
          "base_uri": "https://localhost:8080/"
        },
        "id": "LV1lLmU0NMfM",
        "outputId": "57ad7dff-cfad-42ff-c9ea-b8fdcf82f985"
      },
      "source": [
        "[token.lemma_ for token in doc]\n",
        "#used for reducing the dimenstionality of data"
      ],
      "execution_count": 24,
      "outputs": [
        {
          "output_type": "execute_result",
          "data": {
            "text/plain": [
              "['learn', 'learn', 'watch', 'watch', 'watch']"
            ]
          },
          "metadata": {},
          "execution_count": 24
        }
      ]
    },
    {
      "cell_type": "code",
      "metadata": {
        "id": "ujws3hQDNMcD"
      },
      "source": [
        "import nltk"
      ],
      "execution_count": 25,
      "outputs": []
    },
    {
      "cell_type": "code",
      "metadata": {
        "colab": {
          "base_uri": "https://localhost:8080/",
          "height": 35
        },
        "id": "v1xRXsWSNMRG",
        "outputId": "b4434f40-87f7-4a1c-b12c-99910f2d9198"
      },
      "source": [
        "stemmer =nltk.stem.PorterStemmer()\n",
        "stemmer.stem('learning')"
      ],
      "execution_count": 26,
      "outputs": [
        {
          "output_type": "execute_result",
          "data": {
            "application/vnd.google.colaboratory.intrinsic+json": {
              "type": "string"
            },
            "text/plain": [
              "'learn'"
            ]
          },
          "metadata": {},
          "execution_count": 26
        }
      ]
    },
    {
      "cell_type": "code",
      "metadata": {
        "colab": {
          "base_uri": "https://localhost:8080/",
          "height": 35
        },
        "id": "lF5yoFh3NMNr",
        "outputId": "9b1696e5-0e19-4209-b599-b8d042538511"
      },
      "source": [
        "stemmer.stem('watching, watched, watch')"
      ],
      "execution_count": 28,
      "outputs": [
        {
          "output_type": "execute_result",
          "data": {
            "application/vnd.google.colaboratory.intrinsic+json": {
              "type": "string"
            },
            "text/plain": [
              "'watching, watched, watch'"
            ]
          },
          "metadata": {},
          "execution_count": 28
        }
      ]
    },
    {
      "cell_type": "code",
      "metadata": {
        "colab": {
          "base_uri": "https://localhost:8080/"
        },
        "id": "_p87ON9SNMJ0",
        "outputId": "7dbdb1ba-f94a-4e5d-d01c-93ebbf92b482"
      },
      "source": [
        "for token in document:\n",
        "  print(token.text, token.lemma_, stemmer.stem(token.text))"
      ],
      "execution_count": 29,
      "outputs": [
        {
          "output_type": "stream",
          "name": "stdout",
          "text": [
            "I I I\n",
            "am be am\n",
            "learning learn learn\n",
            "natural natural natur\n",
            "language language languag\n",
            "processing processing process\n",
            ". . .\n",
            "The the the\n",
            "course course cours\n",
            "is be is\n",
            "in in in\n",
            "London London london\n"
          ]
        }
      ]
    },
    {
      "cell_type": "markdown",
      "metadata": {
        "id": "gAwOq2CXQfVM"
      },
      "source": [
        "#NER"
      ]
    },
    {
      "cell_type": "code",
      "metadata": {
        "id": "LtQ-5Ti3Otp8"
      },
      "source": [
        "text = 'IBM is a US company on information technology. It is located in San Francisco and revenue in 2018 was approximately 320 billion dollars'"
      ],
      "execution_count": 38,
      "outputs": []
    },
    {
      "cell_type": "code",
      "metadata": {
        "id": "LFtcvCaUOttz"
      },
      "source": [
        "document=nlp(text)"
      ],
      "execution_count": 39,
      "outputs": []
    },
    {
      "cell_type": "code",
      "metadata": {
        "colab": {
          "base_uri": "https://localhost:8080/"
        },
        "id": "xGjTJWDvOtw3",
        "outputId": "0f60032f-d252-49ef-c166-c62b5102712b"
      },
      "source": [
        "for entity in document.ents:\n",
        "  print(entity.text, entity.label_)"
      ],
      "execution_count": 40,
      "outputs": [
        {
          "output_type": "stream",
          "name": "stdout",
          "text": [
            "IBM ORG\n",
            "US GPE\n",
            "San Francisco GPE\n",
            "2018 DATE\n",
            "approximately 320 billion dollars MONEY\n"
          ]
        }
      ]
    },
    {
      "cell_type": "code",
      "metadata": {
        "colab": {
          "base_uri": "https://localhost:8080/",
          "height": 51
        },
        "id": "qsdaPOAzOt3k",
        "outputId": "e1bda60e-9598-450f-ef65-e0a542a879a3"
      },
      "source": [
        "from spacy import displacy\n",
        "displacy.render(document, style='ent',jupyter =True)"
      ],
      "execution_count": 43,
      "outputs": [
        {
          "output_type": "display_data",
          "data": {
            "text/html": [
              "<span class=\"tex2jax_ignore\"><div class=\"entities\" style=\"line-height: 2.5; direction: ltr\">\n",
              "<mark class=\"entity\" style=\"background: #7aecec; padding: 0.45em 0.6em; margin: 0 0.25em; line-height: 1; border-radius: 0.35em;\">\n",
              "    IBM\n",
              "    <span style=\"font-size: 0.8em; font-weight: bold; line-height: 1; border-radius: 0.35em; vertical-align: middle; margin-left: 0.5rem\">ORG</span>\n",
              "</mark>\n",
              " is a \n",
              "<mark class=\"entity\" style=\"background: #feca74; padding: 0.45em 0.6em; margin: 0 0.25em; line-height: 1; border-radius: 0.35em;\">\n",
              "    US\n",
              "    <span style=\"font-size: 0.8em; font-weight: bold; line-height: 1; border-radius: 0.35em; vertical-align: middle; margin-left: 0.5rem\">GPE</span>\n",
              "</mark>\n",
              " company on information technology. It is located in \n",
              "<mark class=\"entity\" style=\"background: #feca74; padding: 0.45em 0.6em; margin: 0 0.25em; line-height: 1; border-radius: 0.35em;\">\n",
              "    San Francisco\n",
              "    <span style=\"font-size: 0.8em; font-weight: bold; line-height: 1; border-radius: 0.35em; vertical-align: middle; margin-left: 0.5rem\">GPE</span>\n",
              "</mark>\n",
              " and revenue in \n",
              "<mark class=\"entity\" style=\"background: #bfe1d9; padding: 0.45em 0.6em; margin: 0 0.25em; line-height: 1; border-radius: 0.35em;\">\n",
              "    2018\n",
              "    <span style=\"font-size: 0.8em; font-weight: bold; line-height: 1; border-radius: 0.35em; vertical-align: middle; margin-left: 0.5rem\">DATE</span>\n",
              "</mark>\n",
              " was \n",
              "<mark class=\"entity\" style=\"background: #e4e7d2; padding: 0.45em 0.6em; margin: 0 0.25em; line-height: 1; border-radius: 0.35em;\">\n",
              "    approximately 320 billion dollars\n",
              "    <span style=\"font-size: 0.8em; font-weight: bold; line-height: 1; border-radius: 0.35em; vertical-align: middle; margin-left: 0.5rem\">MONEY</span>\n",
              "</mark>\n",
              "</div></span>"
            ],
            "text/plain": [
              "<IPython.core.display.HTML object>"
            ]
          },
          "metadata": {}
        }
      ]
    },
    {
      "cell_type": "code",
      "metadata": {
        "id": "Q-SD_w91Ot7O"
      },
      "source": [
        "text = 'Bill Gates was born in Seattle on 1955-10-28 and is the founder of Microsoft'\n",
        "document=nlp(text)"
      ],
      "execution_count": 44,
      "outputs": []
    },
    {
      "cell_type": "code",
      "metadata": {
        "colab": {
          "base_uri": "https://localhost:8080/"
        },
        "id": "631dHoXQOt-L",
        "outputId": "e1bcc1be-e3ba-4f81-a4df-a4edaf98c3f1"
      },
      "source": [
        "for entity in document.ents:\n",
        "  print(entity.text, entity.label_)"
      ],
      "execution_count": 47,
      "outputs": [
        {
          "output_type": "stream",
          "name": "stdout",
          "text": [
            "Bill Gates PERSON\n",
            "Seattle GPE\n",
            "1955-10-28 DATE\n",
            "Microsoft ORG\n"
          ]
        }
      ]
    },
    {
      "cell_type": "code",
      "metadata": {
        "colab": {
          "base_uri": "https://localhost:8080/"
        },
        "id": "Ka419rWwOuB4",
        "outputId": "75c2ff4d-d2e4-4735-87e2-788a3561ae38"
      },
      "source": [
        "for entity in document.ents:\n",
        "  if entity.label_=='GPE':\n",
        "    print(entity.text, entity.label_)"
      ],
      "execution_count": 50,
      "outputs": [
        {
          "output_type": "stream",
          "name": "stdout",
          "text": [
            "Seattle GPE\n"
          ]
        }
      ]
    },
    {
      "cell_type": "markdown",
      "metadata": {
        "id": "PL041W9zTO1c"
      },
      "source": [
        "#stop words\n",
        "has no sentiment, neither positive or negative. "
      ]
    },
    {
      "cell_type": "code",
      "metadata": {
        "id": "1IsgHDl0ThZP"
      },
      "source": [
        "from spacy.lang.fr.stop_words import STOP_WORDS"
      ],
      "execution_count": 53,
      "outputs": []
    },
    {
      "cell_type": "code",
      "metadata": {
        "colab": {
          "base_uri": "https://localhost:8080/"
        },
        "id": "qkdAOYYoThjW",
        "outputId": "ec769b6d-6a85-4f6e-967e-f48f798ce253"
      },
      "source": [
        "print(STOP_WORDS)"
      ],
      "execution_count": 57,
      "outputs": [
        {
          "output_type": "stream",
          "name": "stdout",
          "text": [
            "{'neuvième', 'etais', 'possible', 'auxquelles', 'huitième', 'ce', 'peuvent', 'directe', 'suit', 'autres', 'quelque', 'elle-même', 'aie', 'quoi', 'vous', 'serait', 'celles-ci', 'i', 'tres', 'etc', 'memes', 'ont', 'da', 'ainsi', 'nul', 'suffisante', 'peux', 'voici', 'est', 'lui-meme', 'envers', 'ouverte', 'eh', 'spécifique', 'cependant', 'suivants', 'j’', 'sur', 'avant', 'doivent', \"t'\", 'deja', \"qu'\", 'que', 'quatre', 'merci', 'outre', 'était', 'mes', 'toujours', 'cent', 'depuis', 'houp', 'dehors', 'me', 's’', 'auraient', 'vingt', 'or', 'nos', 'suivante', 'specifique', 'notamment', 'malgre', 'deuxième', 'rendre', 'sixième', 'lorsque', \"n'\", 'dits', 'different', 'proche', 'quand', 'lesquels', 'bas', 'ès', 'o', 'basee', 'certaines', 'surtout', 'effet', 'précisement', 'deux', 'sans', 'soit', 'son', 'cela', 'différent', 'lesquelles', 'quatrième', 'directement', 'vont', 'celui-ci', 'maintenant', 'ha', 'reste', 'cinquième', 'certes', 'faisant', 'prealable', 'enfin', 'semblent', 'siens', 'celles-la', 'moi-même', 'dessus', 'hue', 'lui', 'abord', 'a', 'douzième', 'pense', 'ceux-ci', 'tout', 'fais', 'donc', 'des', \"m'\", 'onze', 'feront', 'quelques', 'troisième', 'étais', 'devra', 'quinze', 'miennes', 'ne', 'vas', 'nombreux', 'plutot', 'on', 'anterieur', 'dedans', 'jusque', 'malgré', 'seraient', 'soi', 'dès', 'spécifiques', 'quelconque', 'chez', 'fait', 'devant', 'deuxièmement', 'diverses', 'entre', 'differents', 'suivantes', 'différente', 'quant-à-soi', 'celui', 'revoilà', 'dans', 'elles-mêmes', 'unes', 'doit', 'diverse', 'n’', 'vu', 'votre', 'semblaient', 'dix', 'le', 'autrui', 'specifiques', 'devers', 'sauf', 'touchant', 'quel', 'pour', 'quant', 'aussi', 'celle-là', 'huit', 'desormais', 'moins', 'differente', 'antérieure', 'te', 'soi-meme', \"quelqu'un\", 'dit', 'sera', 'as', 'avec', 'nouveau', 'tes', 'celui-la', 'nombreuses', 'puis', 'facon', 'suis', 'parler', 'desquelles', 'cinquantaine', 'elle', 'cette', \"c'\", 'aux', 'ses', 'compris', 'pourrais', 'hui', 'différentes', 'aurait', 'relativement', 'neanmoins', 'partant', 'sont', 'trente', 'façon', 'hep', 'ceux-là', 'du', 'suffisant', 'déja', 'une', 'un', 'quels', 'tente', 'celui-là', 'afin', 'par', 'elles-memes', 'tous', 'restant', 'revoici', 'certaine', 'celles-là', 'aupres', 'mais', 'vers', 'exactement', 'sa', 'seront', 'ça', 'treize', 'excepté', 'suivre', 'près', 'certains', 'hem', 'meme', 'avais', 'après', 'durant', 'procedant', 'seulement', 'ouvert', 'souvent', 'longtemps', 'dix-sept', 'déjà', 'semblable', 'ouias', 'permet', 'de', 'faisaient', 'egalement', 'na', 'pres', 'vais', 'alors', 'moindres', 'cet', 'les', 'dixième', 'mêmes', 'avait', 'etre', 'la', 'elles', 'lors', 'auront', 'voilà', 'il', 'gens', 'cinquantième', 'debout', 'ho', 'nous', 'environ', 'retour', 'tien', 'laquelle', 'tenant', 'tenir', 'nôtre', 'qui', 'seize', 'telle', 'toi-meme', 'via', 'quelles', 'à', 'je', 'nous-mêmes', 'ceux', 'suivant', 'selon', 'comment', 'toi-même', \"s'\", 'c’', 'toute', 'tend', 'differentes', 'cinq', 'si', 'mienne', 'moi-meme', 'antérieures', 'antérieur', 'plusieurs', 'pourquoi', 'auxquels', 'â', 'même', 'quatrièmement', 'etait', 'ces', 'derrière', 'miens', 'rend', 'onzième', 'désormais', 'duquel', 'anterieures', 'eux-mêmes', 'pourrait', 'différents', 'leurs', 'autrement', 'combien', 'nôtres', 'té', 'tiennes', 'premièrement', 'tienne', 'troisièmement', 'autre', \"j'\", 'ô', 'hou', 'ah', 'mien', 'car', 'celle-ci', 'mille', 'dejà', 'chaque', 'ni', 'moi', 'parmi', 'plutôt', 'soixante', 'comme', 'dessous', 'vôtre', 'lui-même', 'en', 'pendant', 'parle', 'anterieure', 'sept', 'allaient', 'puisque', 'quarante', 'vôtres', 'avons', 'ayant', 'toi', 'premier', 'uns', 'celle', 'laisser', 'hé', 'sait', 'qu’', 'vous-mêmes', 'pas', 'tiens', 'etant', 'stop', 'pouvait', 'se', 'juste', 'semble', 'quatre-vingt', 'première', 'va', 'également', 'ait', 'dix-huit', 'lès', 'vé', 'relative', 'hi', 'tels', 'soi-même', 'toutes', 'très', 'ton', 'importe', 'sien', 'cinquante', 'ma', 'ouverts', \"d'\", 'assez', 'precisement', 'certain', 'encore', 'peut', 'peu', 'pu', 'jusqu', 'trois', 'là', 'quelle', 'seul', 'auquel', 'apres', 'sinon', 'au', 'voila', 'tant', 'leur', 'tu', 'mon', 'lequel', 'seules', 'divers', 'eu', 'ceci', 'étant', 'notre', 'avaient', 'parlent', 'delà', 'desquels', 'concernant', 'y', 'et', 'maint', 'quiconque', 'hormis', 'tel', 'votres', 'parce', 'derriere', 'celle-la', 'être', 'ta', 'dire', 'es', 'ou', 'allons', 'celles', \"l'\", 'ci', 'douze', 'septième', 'seuls', 'eux', 'personne', 'aura', 'où', 'vos', 'sent', 'elle-meme', 'ouste', 'seule', 'telles', 'ils', 'parfois', 'font', 'sienne', 'sous', 'chacune', 'revoila', 'chacun', 'm’', 'tellement', 'quatorze', 'etaient', 'hors', 't’', 'avoir', 'attendu', 'préalable', 'restent', 'possibles', 'l’', 'étaient', 'néanmoins', 'bat', 'suffit', 'd’', 'dont', 'dix-neuf', 'plus', 'siennes', 'ai', 'dite', 'quoique', 'six'}\n"
          ]
        }
      ]
    },
    {
      "cell_type": "code",
      "metadata": {
        "id": "m2ZlF-SqThmo"
      },
      "source": [
        "from spacy.lang.pt.stop_words import STOP_WORDS"
      ],
      "execution_count": null,
      "outputs": []
    },
    {
      "cell_type": "code",
      "metadata": {
        "colab": {
          "base_uri": "https://localhost:8080/"
        },
        "id": "1Dr6bI4aThx6",
        "outputId": "62866270-3120-4b17-9c9a-f0456b735347"
      },
      "source": [
        "from spacy.lang.en.stop_words import STOP_WORDS\n",
        "print(STOP_WORDS)"
      ],
      "execution_count": 59,
      "outputs": [
        {
          "output_type": "stream",
          "name": "stdout",
          "text": [
            "{'last', 'ca', 'to', 'whereby', 'i', 'anywhere', 'none', 'ourselves', \"'d\", '‘d', 'everyone', 'regarding', 'back', 'its', 'should', 'serious', 'although', '‘m', 'each', 'therefore', 'beyond', 'make', 'herein', 'may', \"'re\", '‘ve', 'have', 'put', 'them', 'just', '‘s', 'nowhere', 'at', 'me', 'will', '‘re', 'toward', 'or', 'whom', 'ever', 'over', 'move', '’d', 'was', 'only', 'those', 'what', 'eleven', 'wherein', 'some', 'anyone', 'besides', 'meanwhile', 'of', 'than', 'see', 'whole', 'everything', 'could', '‘ll', 'everywhere', 'most', 'hereupon', 'less', 'ours', 'been', 'seeming', 'every', 'thru', 'a', 'whereas', 'hers', 'several', 'nothing', 'my', 'part', 'namely', 'during', 'also', \"'m\", 'the', 'thus', 'yourselves', 'by', 'becomes', 'on', 'get', 'themselves', 'side', 'whose', 'forty', 'whatever', 'amongst', 'until', 'out', 'across', 'thereafter', 'itself', 'throughout', 'does', 'rather', 'how', 'this', 'among', 'empty', 'him', 'two', 'unless', 'used', 'more', 'us', 'herself', 'anyhow', 'seemed', 'through', 'third', 'please', 'up', 'might', 'all', 'for', 'as', 'except', 'however', 'am', 'be', 'amount', 'being', 'where', 'elsewhere', 'afterwards', 'above', 'who', 'nobody', 'they', 'even', 'from', 'go', 'we', 'therein', 'ten', 'very', 'did', 'became', 'nine', 'behind', 'whoever', 'if', 'yet', \"'s\", 'are', 'must', 'yours', 'against', 'down', 'doing', 'still', 'eight', 'made', 'such', 'sometimes', 'become', 'is', 'another', 'five', 'your', 'next', 'call', 'not', 'do', 'thereby', 'about', 'further', 'noone', 'in', 'onto', 'three', 'least', 'always', 'beforehand', 'between', 'fifteen', 'first', 'somewhere', 'whereupon', 'former', 'via', 'fifty', 'really', 'something', 'indeed', 'whence', 'bottom', 'twenty', 'because', 'he', 'wherever', 'any', 'top', 'beside', 'n‘t', \"n't\", 'show', '’re', 'front', 'mine', 'that', 'moreover', 'there', 'many', 'quite', 'though', 'into', 'under', 'yourself', 'never', 'with', 'latter', 'neither', 'done', 'own', 'around', '’m', 'cannot', 'hereafter', 'whereafter', 'before', 'thence', 'somehow', 'whither', 'their', 'full', \"'ll\", 'someone', '’s', 'same', 'seems', 'himself', 'these', 'since', 'various', 'per', 'were', 'latterly', 'anything', 'either', 'enough', 'well', 'an', 'often', 'once', 'would', 'give', 'nor', 'hence', 'within', 'formerly', 'she', 'four', 'and', 'mostly', 'whether', 'few', 'hundred', 'hereby', 'again', 'due', 'when', 'others', 'keep', 'which', 'but', 'myself', 'both', 'almost', 'sixty', 'it', 'our', 'whenever', 'nevertheless', 'already', 'one', 'while', 'here', 'name', 'so', 'his', 'can', '’ve', 'had', 'has', 'together', \"'ve\", 'perhaps', 'take', 'then', 'no', 'now', 'upon', '’ll', 're', 'sometime', 'twelve', 'alone', 'along', 'say', 'thereupon', 'using', 'off', 'anyway', 'otherwise', 'too', 'why', 'n’t', 'you', 'her', 'below', 'else', 'towards', 'other', 'becoming', 'after', 'seem', 'without', 'much', 'six'}\n"
          ]
        }
      ]
    },
    {
      "cell_type": "code",
      "metadata": {
        "colab": {
          "base_uri": "https://localhost:8080/"
        },
        "id": "6OTaN6AnVllY",
        "outputId": "8c7a2ea4-7931-4cc5-a0fe-0636e4e8c897"
      },
      "source": [
        "'it' in STOP_WORDS"
      ],
      "execution_count": 71,
      "outputs": [
        {
          "output_type": "execute_result",
          "data": {
            "text/plain": [
              "True"
            ]
          },
          "metadata": {},
          "execution_count": 71
        }
      ]
    },
    {
      "cell_type": "code",
      "metadata": {
        "id": "4B6wKdkoTh2K"
      },
      "source": [
        "\n",
        "for i,stop in enumerate(STOP_WORDS):\n",
        "  print(i+1, stop)\n"
      ],
      "execution_count": null,
      "outputs": []
    },
    {
      "cell_type": "code",
      "metadata": {
        "colab": {
          "base_uri": "https://localhost:8080/"
        },
        "id": "7dAIIeSyTh6e",
        "outputId": "cc6a4792-3cbf-4fbb-85e5-097d40983048"
      },
      "source": [
        "#checking stopwords \n",
        "\n",
        "nlp.vocab['it'].is_stop"
      ],
      "execution_count": 72,
      "outputs": [
        {
          "output_type": "execute_result",
          "data": {
            "text/plain": [
              "True"
            ]
          },
          "metadata": {},
          "execution_count": 72
        }
      ]
    },
    {
      "cell_type": "code",
      "metadata": {
        "colab": {
          "base_uri": "https://localhost:8080/"
        },
        "id": "JFIg_F-NTiDn",
        "outputId": "629070b9-8506-4d2a-d1f8-657b9b5476de"
      },
      "source": [
        "nlp.vocab['walk'].is_stop"
      ],
      "execution_count": 73,
      "outputs": [
        {
          "output_type": "execute_result",
          "data": {
            "text/plain": [
              "False"
            ]
          },
          "metadata": {},
          "execution_count": 73
        }
      ]
    },
    {
      "cell_type": "code",
      "metadata": {
        "id": "UJjpBf2RWaGE"
      },
      "source": [
        "sentence= 'I am learning natural language processing. The course is in London'"
      ],
      "execution_count": 74,
      "outputs": []
    },
    {
      "cell_type": "code",
      "metadata": {
        "id": "fpHrVp1QTiNG"
      },
      "source": [
        "document=nlp(sentence)"
      ],
      "execution_count": 75,
      "outputs": []
    },
    {
      "cell_type": "code",
      "metadata": {
        "colab": {
          "base_uri": "https://localhost:8080/"
        },
        "id": "HcNJm3DmTiRX",
        "outputId": "66bb4572-7ab4-4862-c8b2-5095aa341dc3"
      },
      "source": [
        "for token in document:\n",
        "  if nlp.vocab[token.text].is_stop:\n",
        "    print(token.text)"
      ],
      "execution_count": 77,
      "outputs": [
        {
          "output_type": "stream",
          "name": "stdout",
          "text": [
            "I\n",
            "am\n",
            "The\n",
            "is\n",
            "in\n"
          ]
        }
      ]
    },
    {
      "cell_type": "code",
      "metadata": {
        "colab": {
          "base_uri": "https://localhost:8080/"
        },
        "id": "izIX88FnTiV3",
        "outputId": "6ef24123-9fb4-4abf-cecc-c1650f4cb912"
      },
      "source": [
        "#return no stopwords\n",
        "for token in document:\n",
        "  if not nlp.vocab[token.text].is_stop:\n",
        "    print(token.text)"
      ],
      "execution_count": 78,
      "outputs": [
        {
          "output_type": "stream",
          "name": "stdout",
          "text": [
            "learning\n",
            "natural\n",
            "language\n",
            "processing\n",
            ".\n",
            "course\n",
            "London\n"
          ]
        }
      ]
    },
    {
      "cell_type": "markdown",
      "metadata": {
        "id": "Luw09YXsXD6E"
      },
      "source": [
        "#Dependency parsing "
      ]
    },
    {
      "cell_type": "code",
      "metadata": {
        "id": "Zc5bMWyeTiaT"
      },
      "source": [
        "document = nlp('book a ticket from London to Paris')"
      ],
      "execution_count": 79,
      "outputs": []
    },
    {
      "cell_type": "code",
      "metadata": {
        "id": "HHumnmlhTifh"
      },
      "source": [
        "origin =document[4]\n",
        "destination =document[6]"
      ],
      "execution_count": 81,
      "outputs": []
    },
    {
      "cell_type": "code",
      "metadata": {
        "colab": {
          "base_uri": "https://localhost:8080/"
        },
        "id": "dMZ1qn3zXIih",
        "outputId": "5f3e0b4a-cfee-49c6-c5ce-a48108378915"
      },
      "source": [
        "print(origin, destination)"
      ],
      "execution_count": 82,
      "outputs": [
        {
          "output_type": "stream",
          "name": "stdout",
          "text": [
            "London Paris\n"
          ]
        }
      ]
    },
    {
      "cell_type": "code",
      "metadata": {
        "colab": {
          "base_uri": "https://localhost:8080/"
        },
        "id": "ZHp7pYPSXIo3",
        "outputId": "d8946224-6c9c-46c3-887c-ef5e38dec0f7"
      },
      "source": [
        "for entity in document.ents:\n",
        "  if entity.label_=='GPE':\n",
        "    print(entity.text, entity.label_)\n"
      ],
      "execution_count": 90,
      "outputs": [
        {
          "output_type": "stream",
          "name": "stdout",
          "text": [
            "London GPE\n",
            "Paris GPE\n"
          ]
        }
      ]
    },
    {
      "cell_type": "code",
      "metadata": {
        "colab": {
          "base_uri": "https://localhost:8080/"
        },
        "id": "15_OGmmWXIsr",
        "outputId": "1c45833c-5394-46a0-9bc1-ca21b39839ef"
      },
      "source": [
        "list(origin.ancestors)"
      ],
      "execution_count": 85,
      "outputs": [
        {
          "output_type": "execute_result",
          "data": {
            "text/plain": [
              "[from, ticket, book]"
            ]
          },
          "metadata": {},
          "execution_count": 85
        }
      ]
    },
    {
      "cell_type": "code",
      "metadata": {
        "colab": {
          "base_uri": "https://localhost:8080/"
        },
        "id": "juXgBpEWXIwb",
        "outputId": "5e63ccec-827d-4195-e0a1-7c79ea6f8e06"
      },
      "source": [
        "list(destination.ancestors)"
      ],
      "execution_count": 86,
      "outputs": [
        {
          "output_type": "execute_result",
          "data": {
            "text/plain": [
              "[to, ticket, book]"
            ]
          },
          "metadata": {},
          "execution_count": 86
        }
      ]
    },
    {
      "cell_type": "code",
      "metadata": {
        "colab": {
          "base_uri": "https://localhost:8080/"
        },
        "id": "vdCjxY8zXI0A",
        "outputId": "c39c3c69-3edb-4bcc-a050-16782193bcbc"
      },
      "source": [
        "document[0].is_ancestor(document[2])"
      ],
      "execution_count": 91,
      "outputs": [
        {
          "output_type": "execute_result",
          "data": {
            "text/plain": [
              "True"
            ]
          },
          "metadata": {},
          "execution_count": 91
        }
      ]
    },
    {
      "cell_type": "code",
      "metadata": {
        "id": "NS4R5ziJXI4I"
      },
      "source": [
        "#dependency 2\n",
        "document = nlp('Book a table for the restaurant and a taxi to the hotel')"
      ],
      "execution_count": 92,
      "outputs": []
    },
    {
      "cell_type": "code",
      "metadata": {
        "id": "lZ4vsV7MXI6z"
      },
      "source": [
        "tasks=document[2], document[8]\n",
        "locations=document[5], document[11]"
      ],
      "execution_count": 95,
      "outputs": []
    },
    {
      "cell_type": "code",
      "metadata": {
        "colab": {
          "base_uri": "https://localhost:8080/"
        },
        "id": "Bv6DAcw3XI-l",
        "outputId": "f03409ce-bb60-4f69-e7ca-9c602270dc85"
      },
      "source": [
        "print(tasks, locations)"
      ],
      "execution_count": 96,
      "outputs": [
        {
          "output_type": "stream",
          "name": "stdout",
          "text": [
            "(table, taxi) (restaurant, hotel)\n"
          ]
        }
      ]
    },
    {
      "cell_type": "code",
      "metadata": {
        "id": "Esqe2c2adFXn"
      },
      "source": [
        "# for local in locations:\n",
        "#   print('---', local)\n",
        "#   for obj in local.children:\n",
        "#     print(obj)"
      ],
      "execution_count": null,
      "outputs": []
    },
    {
      "cell_type": "code",
      "metadata": {
        "colab": {
          "base_uri": "https://localhost:8080/"
        },
        "id": "3B51rjaWXJCh",
        "outputId": "b435d8ae-73ea-49c8-c317-7bc708ea8748"
      },
      "source": [
        "for local in locations:\n",
        "  print('---', local)\n",
        "  for obj in local.ancestors:\n",
        "    print(obj)"
      ],
      "execution_count": 98,
      "outputs": [
        {
          "output_type": "stream",
          "name": "stdout",
          "text": [
            "--- restaurant\n",
            "for\n",
            "table\n",
            "Book\n",
            "--- hotel\n",
            "to\n",
            "taxi\n",
            "restaurant\n",
            "for\n",
            "table\n",
            "Book\n"
          ]
        }
      ]
    },
    {
      "cell_type": "code",
      "metadata": {
        "colab": {
          "base_uri": "https://localhost:8080/"
        },
        "id": "tbRM5XKIXJGF",
        "outputId": "3131214d-ab50-44bc-b65b-2cafa3dbd983"
      },
      "source": [
        "for local in locations:\n",
        "  for obj in local.ancestors:\n",
        "    if obj in tasks:\n",
        "      print('Reservation of a {} to the {}'. format(obj, local))\n",
        "      break\n"
      ],
      "execution_count": 104,
      "outputs": [
        {
          "output_type": "stream",
          "name": "stdout",
          "text": [
            "Reservation of a table to the restaurant\n",
            "Reservation of a taxi to the hotel\n"
          ]
        }
      ]
    },
    {
      "cell_type": "code",
      "metadata": {
        "colab": {
          "base_uri": "https://localhost:8080/"
        },
        "id": "xTnVnP4rXJJR",
        "outputId": "fd23344c-7969-4e42-908b-6d8f1a13941a"
      },
      "source": [
        "list(document[5].children)"
      ],
      "execution_count": 101,
      "outputs": [
        {
          "output_type": "execute_result",
          "data": {
            "text/plain": [
              "[the, and, taxi]"
            ]
          },
          "metadata": {},
          "execution_count": 101
        }
      ]
    },
    {
      "cell_type": "code",
      "metadata": {
        "id": "b357dy3wXJMO"
      },
      "source": [
        "from spacy import displacy"
      ],
      "execution_count": 112,
      "outputs": []
    },
    {
      "cell_type": "code",
      "metadata": {
        "id": "Kp60F_rgecrL"
      },
      "source": [
        "document = nlp('Book a table for the restaurant and a taxi to the hotel')"
      ],
      "execution_count": 115,
      "outputs": []
    },
    {
      "cell_type": "code",
      "metadata": {
        "colab": {
          "base_uri": "https://localhost:8080/",
          "height": 293
        },
        "id": "tcfTr_EVecvd",
        "outputId": "f26cf6d4-fc00-4c8c-9d5e-fa111146ac42"
      },
      "source": [
        "displacy.render(document, style='dep', jupyter=True, options={'distance':90})"
      ],
      "execution_count": 117,
      "outputs": [
        {
          "output_type": "display_data",
          "data": {
            "text/html": [
              "<span class=\"tex2jax_ignore\"><svg xmlns=\"http://www.w3.org/2000/svg\" xmlns:xlink=\"http://www.w3.org/1999/xlink\" xml:lang=\"en\" id=\"44de8765fa334e37ab43052ec945c81c-0\" class=\"displacy\" width=\"1130\" height=\"272.0\" direction=\"ltr\" style=\"max-width: none; height: 272.0px; color: #000000; background: #ffffff; font-family: Arial; direction: ltr\">\n",
              "<text class=\"displacy-token\" fill=\"currentColor\" text-anchor=\"middle\" y=\"182.0\">\n",
              "    <tspan class=\"displacy-word\" fill=\"currentColor\" x=\"50\">Book</tspan>\n",
              "    <tspan class=\"displacy-tag\" dy=\"2em\" fill=\"currentColor\" x=\"50\">PROPN</tspan>\n",
              "</text>\n",
              "\n",
              "<text class=\"displacy-token\" fill=\"currentColor\" text-anchor=\"middle\" y=\"182.0\">\n",
              "    <tspan class=\"displacy-word\" fill=\"currentColor\" x=\"140\">a</tspan>\n",
              "    <tspan class=\"displacy-tag\" dy=\"2em\" fill=\"currentColor\" x=\"140\">DET</tspan>\n",
              "</text>\n",
              "\n",
              "<text class=\"displacy-token\" fill=\"currentColor\" text-anchor=\"middle\" y=\"182.0\">\n",
              "    <tspan class=\"displacy-word\" fill=\"currentColor\" x=\"230\">table</tspan>\n",
              "    <tspan class=\"displacy-tag\" dy=\"2em\" fill=\"currentColor\" x=\"230\">NOUN</tspan>\n",
              "</text>\n",
              "\n",
              "<text class=\"displacy-token\" fill=\"currentColor\" text-anchor=\"middle\" y=\"182.0\">\n",
              "    <tspan class=\"displacy-word\" fill=\"currentColor\" x=\"320\">for</tspan>\n",
              "    <tspan class=\"displacy-tag\" dy=\"2em\" fill=\"currentColor\" x=\"320\">ADP</tspan>\n",
              "</text>\n",
              "\n",
              "<text class=\"displacy-token\" fill=\"currentColor\" text-anchor=\"middle\" y=\"182.0\">\n",
              "    <tspan class=\"displacy-word\" fill=\"currentColor\" x=\"410\">the</tspan>\n",
              "    <tspan class=\"displacy-tag\" dy=\"2em\" fill=\"currentColor\" x=\"410\">DET</tspan>\n",
              "</text>\n",
              "\n",
              "<text class=\"displacy-token\" fill=\"currentColor\" text-anchor=\"middle\" y=\"182.0\">\n",
              "    <tspan class=\"displacy-word\" fill=\"currentColor\" x=\"500\">restaurant</tspan>\n",
              "    <tspan class=\"displacy-tag\" dy=\"2em\" fill=\"currentColor\" x=\"500\">NOUN</tspan>\n",
              "</text>\n",
              "\n",
              "<text class=\"displacy-token\" fill=\"currentColor\" text-anchor=\"middle\" y=\"182.0\">\n",
              "    <tspan class=\"displacy-word\" fill=\"currentColor\" x=\"590\">and</tspan>\n",
              "    <tspan class=\"displacy-tag\" dy=\"2em\" fill=\"currentColor\" x=\"590\">CCONJ</tspan>\n",
              "</text>\n",
              "\n",
              "<text class=\"displacy-token\" fill=\"currentColor\" text-anchor=\"middle\" y=\"182.0\">\n",
              "    <tspan class=\"displacy-word\" fill=\"currentColor\" x=\"680\">a</tspan>\n",
              "    <tspan class=\"displacy-tag\" dy=\"2em\" fill=\"currentColor\" x=\"680\">DET</tspan>\n",
              "</text>\n",
              "\n",
              "<text class=\"displacy-token\" fill=\"currentColor\" text-anchor=\"middle\" y=\"182.0\">\n",
              "    <tspan class=\"displacy-word\" fill=\"currentColor\" x=\"770\">taxi</tspan>\n",
              "    <tspan class=\"displacy-tag\" dy=\"2em\" fill=\"currentColor\" x=\"770\">NOUN</tspan>\n",
              "</text>\n",
              "\n",
              "<text class=\"displacy-token\" fill=\"currentColor\" text-anchor=\"middle\" y=\"182.0\">\n",
              "    <tspan class=\"displacy-word\" fill=\"currentColor\" x=\"860\">to</tspan>\n",
              "    <tspan class=\"displacy-tag\" dy=\"2em\" fill=\"currentColor\" x=\"860\">ADP</tspan>\n",
              "</text>\n",
              "\n",
              "<text class=\"displacy-token\" fill=\"currentColor\" text-anchor=\"middle\" y=\"182.0\">\n",
              "    <tspan class=\"displacy-word\" fill=\"currentColor\" x=\"950\">the</tspan>\n",
              "    <tspan class=\"displacy-tag\" dy=\"2em\" fill=\"currentColor\" x=\"950\">DET</tspan>\n",
              "</text>\n",
              "\n",
              "<text class=\"displacy-token\" fill=\"currentColor\" text-anchor=\"middle\" y=\"182.0\">\n",
              "    <tspan class=\"displacy-word\" fill=\"currentColor\" x=\"1040\">hotel</tspan>\n",
              "    <tspan class=\"displacy-tag\" dy=\"2em\" fill=\"currentColor\" x=\"1040\">NOUN</tspan>\n",
              "</text>\n",
              "\n",
              "<g class=\"displacy-arrow\">\n",
              "    <path class=\"displacy-arc\" id=\"arrow-44de8765fa334e37ab43052ec945c81c-0-0\" stroke-width=\"2px\" d=\"M160,137.0 C160,92.0 220.0,92.0 220.0,137.0\" fill=\"none\" stroke=\"currentColor\"/>\n",
              "    <text dy=\"1.25em\" style=\"font-size: 0.8em; letter-spacing: 1px\">\n",
              "        <textPath xlink:href=\"#arrow-44de8765fa334e37ab43052ec945c81c-0-0\" class=\"displacy-label\" startOffset=\"50%\" side=\"left\" fill=\"currentColor\" text-anchor=\"middle\">det</textPath>\n",
              "    </text>\n",
              "    <path class=\"displacy-arrowhead\" d=\"M160,139.0 L152,127.0 168,127.0\" fill=\"currentColor\"/>\n",
              "</g>\n",
              "\n",
              "<g class=\"displacy-arrow\">\n",
              "    <path class=\"displacy-arc\" id=\"arrow-44de8765fa334e37ab43052ec945c81c-0-1\" stroke-width=\"2px\" d=\"M70,137.0 C70,47.0 225.0,47.0 225.0,137.0\" fill=\"none\" stroke=\"currentColor\"/>\n",
              "    <text dy=\"1.25em\" style=\"font-size: 0.8em; letter-spacing: 1px\">\n",
              "        <textPath xlink:href=\"#arrow-44de8765fa334e37ab43052ec945c81c-0-1\" class=\"displacy-label\" startOffset=\"50%\" side=\"left\" fill=\"currentColor\" text-anchor=\"middle\">appos</textPath>\n",
              "    </text>\n",
              "    <path class=\"displacy-arrowhead\" d=\"M225.0,139.0 L233.0,127.0 217.0,127.0\" fill=\"currentColor\"/>\n",
              "</g>\n",
              "\n",
              "<g class=\"displacy-arrow\">\n",
              "    <path class=\"displacy-arc\" id=\"arrow-44de8765fa334e37ab43052ec945c81c-0-2\" stroke-width=\"2px\" d=\"M250,137.0 C250,92.0 310.0,92.0 310.0,137.0\" fill=\"none\" stroke=\"currentColor\"/>\n",
              "    <text dy=\"1.25em\" style=\"font-size: 0.8em; letter-spacing: 1px\">\n",
              "        <textPath xlink:href=\"#arrow-44de8765fa334e37ab43052ec945c81c-0-2\" class=\"displacy-label\" startOffset=\"50%\" side=\"left\" fill=\"currentColor\" text-anchor=\"middle\">prep</textPath>\n",
              "    </text>\n",
              "    <path class=\"displacy-arrowhead\" d=\"M310.0,139.0 L318.0,127.0 302.0,127.0\" fill=\"currentColor\"/>\n",
              "</g>\n",
              "\n",
              "<g class=\"displacy-arrow\">\n",
              "    <path class=\"displacy-arc\" id=\"arrow-44de8765fa334e37ab43052ec945c81c-0-3\" stroke-width=\"2px\" d=\"M430,137.0 C430,92.0 490.0,92.0 490.0,137.0\" fill=\"none\" stroke=\"currentColor\"/>\n",
              "    <text dy=\"1.25em\" style=\"font-size: 0.8em; letter-spacing: 1px\">\n",
              "        <textPath xlink:href=\"#arrow-44de8765fa334e37ab43052ec945c81c-0-3\" class=\"displacy-label\" startOffset=\"50%\" side=\"left\" fill=\"currentColor\" text-anchor=\"middle\">det</textPath>\n",
              "    </text>\n",
              "    <path class=\"displacy-arrowhead\" d=\"M430,139.0 L422,127.0 438,127.0\" fill=\"currentColor\"/>\n",
              "</g>\n",
              "\n",
              "<g class=\"displacy-arrow\">\n",
              "    <path class=\"displacy-arc\" id=\"arrow-44de8765fa334e37ab43052ec945c81c-0-4\" stroke-width=\"2px\" d=\"M340,137.0 C340,47.0 495.0,47.0 495.0,137.0\" fill=\"none\" stroke=\"currentColor\"/>\n",
              "    <text dy=\"1.25em\" style=\"font-size: 0.8em; letter-spacing: 1px\">\n",
              "        <textPath xlink:href=\"#arrow-44de8765fa334e37ab43052ec945c81c-0-4\" class=\"displacy-label\" startOffset=\"50%\" side=\"left\" fill=\"currentColor\" text-anchor=\"middle\">pobj</textPath>\n",
              "    </text>\n",
              "    <path class=\"displacy-arrowhead\" d=\"M495.0,139.0 L503.0,127.0 487.0,127.0\" fill=\"currentColor\"/>\n",
              "</g>\n",
              "\n",
              "<g class=\"displacy-arrow\">\n",
              "    <path class=\"displacy-arc\" id=\"arrow-44de8765fa334e37ab43052ec945c81c-0-5\" stroke-width=\"2px\" d=\"M520,137.0 C520,92.0 580.0,92.0 580.0,137.0\" fill=\"none\" stroke=\"currentColor\"/>\n",
              "    <text dy=\"1.25em\" style=\"font-size: 0.8em; letter-spacing: 1px\">\n",
              "        <textPath xlink:href=\"#arrow-44de8765fa334e37ab43052ec945c81c-0-5\" class=\"displacy-label\" startOffset=\"50%\" side=\"left\" fill=\"currentColor\" text-anchor=\"middle\">cc</textPath>\n",
              "    </text>\n",
              "    <path class=\"displacy-arrowhead\" d=\"M580.0,139.0 L588.0,127.0 572.0,127.0\" fill=\"currentColor\"/>\n",
              "</g>\n",
              "\n",
              "<g class=\"displacy-arrow\">\n",
              "    <path class=\"displacy-arc\" id=\"arrow-44de8765fa334e37ab43052ec945c81c-0-6\" stroke-width=\"2px\" d=\"M700,137.0 C700,92.0 760.0,92.0 760.0,137.0\" fill=\"none\" stroke=\"currentColor\"/>\n",
              "    <text dy=\"1.25em\" style=\"font-size: 0.8em; letter-spacing: 1px\">\n",
              "        <textPath xlink:href=\"#arrow-44de8765fa334e37ab43052ec945c81c-0-6\" class=\"displacy-label\" startOffset=\"50%\" side=\"left\" fill=\"currentColor\" text-anchor=\"middle\">det</textPath>\n",
              "    </text>\n",
              "    <path class=\"displacy-arrowhead\" d=\"M700,139.0 L692,127.0 708,127.0\" fill=\"currentColor\"/>\n",
              "</g>\n",
              "\n",
              "<g class=\"displacy-arrow\">\n",
              "    <path class=\"displacy-arc\" id=\"arrow-44de8765fa334e37ab43052ec945c81c-0-7\" stroke-width=\"2px\" d=\"M520,137.0 C520,2.0 770.0,2.0 770.0,137.0\" fill=\"none\" stroke=\"currentColor\"/>\n",
              "    <text dy=\"1.25em\" style=\"font-size: 0.8em; letter-spacing: 1px\">\n",
              "        <textPath xlink:href=\"#arrow-44de8765fa334e37ab43052ec945c81c-0-7\" class=\"displacy-label\" startOffset=\"50%\" side=\"left\" fill=\"currentColor\" text-anchor=\"middle\">conj</textPath>\n",
              "    </text>\n",
              "    <path class=\"displacy-arrowhead\" d=\"M770.0,139.0 L778.0,127.0 762.0,127.0\" fill=\"currentColor\"/>\n",
              "</g>\n",
              "\n",
              "<g class=\"displacy-arrow\">\n",
              "    <path class=\"displacy-arc\" id=\"arrow-44de8765fa334e37ab43052ec945c81c-0-8\" stroke-width=\"2px\" d=\"M790,137.0 C790,92.0 850.0,92.0 850.0,137.0\" fill=\"none\" stroke=\"currentColor\"/>\n",
              "    <text dy=\"1.25em\" style=\"font-size: 0.8em; letter-spacing: 1px\">\n",
              "        <textPath xlink:href=\"#arrow-44de8765fa334e37ab43052ec945c81c-0-8\" class=\"displacy-label\" startOffset=\"50%\" side=\"left\" fill=\"currentColor\" text-anchor=\"middle\">prep</textPath>\n",
              "    </text>\n",
              "    <path class=\"displacy-arrowhead\" d=\"M850.0,139.0 L858.0,127.0 842.0,127.0\" fill=\"currentColor\"/>\n",
              "</g>\n",
              "\n",
              "<g class=\"displacy-arrow\">\n",
              "    <path class=\"displacy-arc\" id=\"arrow-44de8765fa334e37ab43052ec945c81c-0-9\" stroke-width=\"2px\" d=\"M970,137.0 C970,92.0 1030.0,92.0 1030.0,137.0\" fill=\"none\" stroke=\"currentColor\"/>\n",
              "    <text dy=\"1.25em\" style=\"font-size: 0.8em; letter-spacing: 1px\">\n",
              "        <textPath xlink:href=\"#arrow-44de8765fa334e37ab43052ec945c81c-0-9\" class=\"displacy-label\" startOffset=\"50%\" side=\"left\" fill=\"currentColor\" text-anchor=\"middle\">det</textPath>\n",
              "    </text>\n",
              "    <path class=\"displacy-arrowhead\" d=\"M970,139.0 L962,127.0 978,127.0\" fill=\"currentColor\"/>\n",
              "</g>\n",
              "\n",
              "<g class=\"displacy-arrow\">\n",
              "    <path class=\"displacy-arc\" id=\"arrow-44de8765fa334e37ab43052ec945c81c-0-10\" stroke-width=\"2px\" d=\"M880,137.0 C880,47.0 1035.0,47.0 1035.0,137.0\" fill=\"none\" stroke=\"currentColor\"/>\n",
              "    <text dy=\"1.25em\" style=\"font-size: 0.8em; letter-spacing: 1px\">\n",
              "        <textPath xlink:href=\"#arrow-44de8765fa334e37ab43052ec945c81c-0-10\" class=\"displacy-label\" startOffset=\"50%\" side=\"left\" fill=\"currentColor\" text-anchor=\"middle\">pobj</textPath>\n",
              "    </text>\n",
              "    <path class=\"displacy-arrowhead\" d=\"M1035.0,139.0 L1043.0,127.0 1027.0,127.0\" fill=\"currentColor\"/>\n",
              "</g>\n",
              "</svg></span>"
            ],
            "text/plain": [
              "<IPython.core.display.HTML object>"
            ]
          },
          "metadata": {}
        }
      ]
    },
    {
      "cell_type": "code",
      "metadata": {
        "colab": {
          "base_uri": "https://localhost:8080/"
        },
        "id": "4wuW_V-qeczA",
        "outputId": "c3d6983e-eca1-46c1-db41-6501f12d1192"
      },
      "source": [
        "list(document[2].ancestors)"
      ],
      "execution_count": 118,
      "outputs": [
        {
          "output_type": "execute_result",
          "data": {
            "text/plain": [
              "[Book]"
            ]
          },
          "metadata": {},
          "execution_count": 118
        }
      ]
    },
    {
      "cell_type": "code",
      "metadata": {
        "colab": {
          "base_uri": "https://localhost:8080/"
        },
        "id": "baVlX08fec2k",
        "outputId": "8ba9671a-4dc9-4b5e-8862-e5ca55388adb"
      },
      "source": [
        "list(document[2].children)"
      ],
      "execution_count": 119,
      "outputs": [
        {
          "output_type": "execute_result",
          "data": {
            "text/plain": [
              "[a, for]"
            ]
          },
          "metadata": {},
          "execution_count": 119
        }
      ]
    },
    {
      "cell_type": "code",
      "metadata": {
        "colab": {
          "base_uri": "https://localhost:8080/"
        },
        "id": "OSlLkFJDg_c2",
        "outputId": "c1700e4d-ea4b-4678-e928-606473beab89"
      },
      "source": [
        "document = nlp('What places can we visit in London and stay in Paris?')\n",
        "locations = document[6], document[10]\n",
        "actions = document[4], document[8]\n",
        "print(locations, actions)"
      ],
      "execution_count": 120,
      "outputs": [
        {
          "output_type": "stream",
          "name": "stdout",
          "text": [
            "(London, Paris) (visit, stay)\n"
          ]
        }
      ]
    },
    {
      "cell_type": "code",
      "metadata": {
        "colab": {
          "base_uri": "https://localhost:8080/"
        },
        "id": "Kh18FmEPg_XS",
        "outputId": "dd7b200f-6ed3-4529-ddb0-dc37fba33fb5"
      },
      "source": [
        "for local in locations:\n",
        "   for action in local.ancestors:\n",
        "    if action in actions:\n",
        "      print('{} to {}'.format(local, action))\n",
        "      break"
      ],
      "execution_count": 124,
      "outputs": [
        {
          "output_type": "stream",
          "name": "stdout",
          "text": [
            "London to visit\n",
            "Paris to stay\n"
          ]
        }
      ]
    },
    {
      "cell_type": "code",
      "metadata": {
        "colab": {
          "base_uri": "https://localhost:8080/",
          "height": 398
        },
        "id": "Q2z4O15rg_Z7",
        "outputId": "10301b14-1da0-4bc2-8243-111a6d6c3db5"
      },
      "source": [
        "displacy.render(document, style='dep', jupyter=True, options={'distance':120})"
      ],
      "execution_count": 125,
      "outputs": [
        {
          "output_type": "display_data",
          "data": {
            "text/html": [
              "<span class=\"tex2jax_ignore\"><svg xmlns=\"http://www.w3.org/2000/svg\" xmlns:xlink=\"http://www.w3.org/1999/xlink\" xml:lang=\"en\" id=\"97159b6ea1ca43258f4162216a8566e6-0\" class=\"displacy\" width=\"1370\" height=\"377.0\" direction=\"ltr\" style=\"max-width: none; height: 377.0px; color: #000000; background: #ffffff; font-family: Arial; direction: ltr\">\n",
              "<text class=\"displacy-token\" fill=\"currentColor\" text-anchor=\"middle\" y=\"287.0\">\n",
              "    <tspan class=\"displacy-word\" fill=\"currentColor\" x=\"50\">What</tspan>\n",
              "    <tspan class=\"displacy-tag\" dy=\"2em\" fill=\"currentColor\" x=\"50\">DET</tspan>\n",
              "</text>\n",
              "\n",
              "<text class=\"displacy-token\" fill=\"currentColor\" text-anchor=\"middle\" y=\"287.0\">\n",
              "    <tspan class=\"displacy-word\" fill=\"currentColor\" x=\"170\">places</tspan>\n",
              "    <tspan class=\"displacy-tag\" dy=\"2em\" fill=\"currentColor\" x=\"170\">NOUN</tspan>\n",
              "</text>\n",
              "\n",
              "<text class=\"displacy-token\" fill=\"currentColor\" text-anchor=\"middle\" y=\"287.0\">\n",
              "    <tspan class=\"displacy-word\" fill=\"currentColor\" x=\"290\">can</tspan>\n",
              "    <tspan class=\"displacy-tag\" dy=\"2em\" fill=\"currentColor\" x=\"290\">AUX</tspan>\n",
              "</text>\n",
              "\n",
              "<text class=\"displacy-token\" fill=\"currentColor\" text-anchor=\"middle\" y=\"287.0\">\n",
              "    <tspan class=\"displacy-word\" fill=\"currentColor\" x=\"410\">we</tspan>\n",
              "    <tspan class=\"displacy-tag\" dy=\"2em\" fill=\"currentColor\" x=\"410\">PRON</tspan>\n",
              "</text>\n",
              "\n",
              "<text class=\"displacy-token\" fill=\"currentColor\" text-anchor=\"middle\" y=\"287.0\">\n",
              "    <tspan class=\"displacy-word\" fill=\"currentColor\" x=\"530\">visit</tspan>\n",
              "    <tspan class=\"displacy-tag\" dy=\"2em\" fill=\"currentColor\" x=\"530\">VERB</tspan>\n",
              "</text>\n",
              "\n",
              "<text class=\"displacy-token\" fill=\"currentColor\" text-anchor=\"middle\" y=\"287.0\">\n",
              "    <tspan class=\"displacy-word\" fill=\"currentColor\" x=\"650\">in</tspan>\n",
              "    <tspan class=\"displacy-tag\" dy=\"2em\" fill=\"currentColor\" x=\"650\">ADP</tspan>\n",
              "</text>\n",
              "\n",
              "<text class=\"displacy-token\" fill=\"currentColor\" text-anchor=\"middle\" y=\"287.0\">\n",
              "    <tspan class=\"displacy-word\" fill=\"currentColor\" x=\"770\">London</tspan>\n",
              "    <tspan class=\"displacy-tag\" dy=\"2em\" fill=\"currentColor\" x=\"770\">PROPN</tspan>\n",
              "</text>\n",
              "\n",
              "<text class=\"displacy-token\" fill=\"currentColor\" text-anchor=\"middle\" y=\"287.0\">\n",
              "    <tspan class=\"displacy-word\" fill=\"currentColor\" x=\"890\">and</tspan>\n",
              "    <tspan class=\"displacy-tag\" dy=\"2em\" fill=\"currentColor\" x=\"890\">CCONJ</tspan>\n",
              "</text>\n",
              "\n",
              "<text class=\"displacy-token\" fill=\"currentColor\" text-anchor=\"middle\" y=\"287.0\">\n",
              "    <tspan class=\"displacy-word\" fill=\"currentColor\" x=\"1010\">stay</tspan>\n",
              "    <tspan class=\"displacy-tag\" dy=\"2em\" fill=\"currentColor\" x=\"1010\">VERB</tspan>\n",
              "</text>\n",
              "\n",
              "<text class=\"displacy-token\" fill=\"currentColor\" text-anchor=\"middle\" y=\"287.0\">\n",
              "    <tspan class=\"displacy-word\" fill=\"currentColor\" x=\"1130\">in</tspan>\n",
              "    <tspan class=\"displacy-tag\" dy=\"2em\" fill=\"currentColor\" x=\"1130\">ADP</tspan>\n",
              "</text>\n",
              "\n",
              "<text class=\"displacy-token\" fill=\"currentColor\" text-anchor=\"middle\" y=\"287.0\">\n",
              "    <tspan class=\"displacy-word\" fill=\"currentColor\" x=\"1250\">Paris?</tspan>\n",
              "    <tspan class=\"displacy-tag\" dy=\"2em\" fill=\"currentColor\" x=\"1250\">PROPN</tspan>\n",
              "</text>\n",
              "\n",
              "<g class=\"displacy-arrow\">\n",
              "    <path class=\"displacy-arc\" id=\"arrow-97159b6ea1ca43258f4162216a8566e6-0-0\" stroke-width=\"2px\" d=\"M70,242.0 C70,182.0 155.0,182.0 155.0,242.0\" fill=\"none\" stroke=\"currentColor\"/>\n",
              "    <text dy=\"1.25em\" style=\"font-size: 0.8em; letter-spacing: 1px\">\n",
              "        <textPath xlink:href=\"#arrow-97159b6ea1ca43258f4162216a8566e6-0-0\" class=\"displacy-label\" startOffset=\"50%\" side=\"left\" fill=\"currentColor\" text-anchor=\"middle\">det</textPath>\n",
              "    </text>\n",
              "    <path class=\"displacy-arrowhead\" d=\"M70,244.0 L62,232.0 78,232.0\" fill=\"currentColor\"/>\n",
              "</g>\n",
              "\n",
              "<g class=\"displacy-arrow\">\n",
              "    <path class=\"displacy-arc\" id=\"arrow-97159b6ea1ca43258f4162216a8566e6-0-1\" stroke-width=\"2px\" d=\"M190,242.0 C190,62.0 525.0,62.0 525.0,242.0\" fill=\"none\" stroke=\"currentColor\"/>\n",
              "    <text dy=\"1.25em\" style=\"font-size: 0.8em; letter-spacing: 1px\">\n",
              "        <textPath xlink:href=\"#arrow-97159b6ea1ca43258f4162216a8566e6-0-1\" class=\"displacy-label\" startOffset=\"50%\" side=\"left\" fill=\"currentColor\" text-anchor=\"middle\">dobj</textPath>\n",
              "    </text>\n",
              "    <path class=\"displacy-arrowhead\" d=\"M190,244.0 L182,232.0 198,232.0\" fill=\"currentColor\"/>\n",
              "</g>\n",
              "\n",
              "<g class=\"displacy-arrow\">\n",
              "    <path class=\"displacy-arc\" id=\"arrow-97159b6ea1ca43258f4162216a8566e6-0-2\" stroke-width=\"2px\" d=\"M310,242.0 C310,122.0 520.0,122.0 520.0,242.0\" fill=\"none\" stroke=\"currentColor\"/>\n",
              "    <text dy=\"1.25em\" style=\"font-size: 0.8em; letter-spacing: 1px\">\n",
              "        <textPath xlink:href=\"#arrow-97159b6ea1ca43258f4162216a8566e6-0-2\" class=\"displacy-label\" startOffset=\"50%\" side=\"left\" fill=\"currentColor\" text-anchor=\"middle\">aux</textPath>\n",
              "    </text>\n",
              "    <path class=\"displacy-arrowhead\" d=\"M310,244.0 L302,232.0 318,232.0\" fill=\"currentColor\"/>\n",
              "</g>\n",
              "\n",
              "<g class=\"displacy-arrow\">\n",
              "    <path class=\"displacy-arc\" id=\"arrow-97159b6ea1ca43258f4162216a8566e6-0-3\" stroke-width=\"2px\" d=\"M430,242.0 C430,182.0 515.0,182.0 515.0,242.0\" fill=\"none\" stroke=\"currentColor\"/>\n",
              "    <text dy=\"1.25em\" style=\"font-size: 0.8em; letter-spacing: 1px\">\n",
              "        <textPath xlink:href=\"#arrow-97159b6ea1ca43258f4162216a8566e6-0-3\" class=\"displacy-label\" startOffset=\"50%\" side=\"left\" fill=\"currentColor\" text-anchor=\"middle\">nsubj</textPath>\n",
              "    </text>\n",
              "    <path class=\"displacy-arrowhead\" d=\"M430,244.0 L422,232.0 438,232.0\" fill=\"currentColor\"/>\n",
              "</g>\n",
              "\n",
              "<g class=\"displacy-arrow\">\n",
              "    <path class=\"displacy-arc\" id=\"arrow-97159b6ea1ca43258f4162216a8566e6-0-4\" stroke-width=\"2px\" d=\"M550,242.0 C550,182.0 635.0,182.0 635.0,242.0\" fill=\"none\" stroke=\"currentColor\"/>\n",
              "    <text dy=\"1.25em\" style=\"font-size: 0.8em; letter-spacing: 1px\">\n",
              "        <textPath xlink:href=\"#arrow-97159b6ea1ca43258f4162216a8566e6-0-4\" class=\"displacy-label\" startOffset=\"50%\" side=\"left\" fill=\"currentColor\" text-anchor=\"middle\">prep</textPath>\n",
              "    </text>\n",
              "    <path class=\"displacy-arrowhead\" d=\"M635.0,244.0 L643.0,232.0 627.0,232.0\" fill=\"currentColor\"/>\n",
              "</g>\n",
              "\n",
              "<g class=\"displacy-arrow\">\n",
              "    <path class=\"displacy-arc\" id=\"arrow-97159b6ea1ca43258f4162216a8566e6-0-5\" stroke-width=\"2px\" d=\"M670,242.0 C670,182.0 755.0,182.0 755.0,242.0\" fill=\"none\" stroke=\"currentColor\"/>\n",
              "    <text dy=\"1.25em\" style=\"font-size: 0.8em; letter-spacing: 1px\">\n",
              "        <textPath xlink:href=\"#arrow-97159b6ea1ca43258f4162216a8566e6-0-5\" class=\"displacy-label\" startOffset=\"50%\" side=\"left\" fill=\"currentColor\" text-anchor=\"middle\">pobj</textPath>\n",
              "    </text>\n",
              "    <path class=\"displacy-arrowhead\" d=\"M755.0,244.0 L763.0,232.0 747.0,232.0\" fill=\"currentColor\"/>\n",
              "</g>\n",
              "\n",
              "<g class=\"displacy-arrow\">\n",
              "    <path class=\"displacy-arc\" id=\"arrow-97159b6ea1ca43258f4162216a8566e6-0-6\" stroke-width=\"2px\" d=\"M550,242.0 C550,62.0 885.0,62.0 885.0,242.0\" fill=\"none\" stroke=\"currentColor\"/>\n",
              "    <text dy=\"1.25em\" style=\"font-size: 0.8em; letter-spacing: 1px\">\n",
              "        <textPath xlink:href=\"#arrow-97159b6ea1ca43258f4162216a8566e6-0-6\" class=\"displacy-label\" startOffset=\"50%\" side=\"left\" fill=\"currentColor\" text-anchor=\"middle\">cc</textPath>\n",
              "    </text>\n",
              "    <path class=\"displacy-arrowhead\" d=\"M885.0,244.0 L893.0,232.0 877.0,232.0\" fill=\"currentColor\"/>\n",
              "</g>\n",
              "\n",
              "<g class=\"displacy-arrow\">\n",
              "    <path class=\"displacy-arc\" id=\"arrow-97159b6ea1ca43258f4162216a8566e6-0-7\" stroke-width=\"2px\" d=\"M550,242.0 C550,2.0 1010.0,2.0 1010.0,242.0\" fill=\"none\" stroke=\"currentColor\"/>\n",
              "    <text dy=\"1.25em\" style=\"font-size: 0.8em; letter-spacing: 1px\">\n",
              "        <textPath xlink:href=\"#arrow-97159b6ea1ca43258f4162216a8566e6-0-7\" class=\"displacy-label\" startOffset=\"50%\" side=\"left\" fill=\"currentColor\" text-anchor=\"middle\">conj</textPath>\n",
              "    </text>\n",
              "    <path class=\"displacy-arrowhead\" d=\"M1010.0,244.0 L1018.0,232.0 1002.0,232.0\" fill=\"currentColor\"/>\n",
              "</g>\n",
              "\n",
              "<g class=\"displacy-arrow\">\n",
              "    <path class=\"displacy-arc\" id=\"arrow-97159b6ea1ca43258f4162216a8566e6-0-8\" stroke-width=\"2px\" d=\"M1030,242.0 C1030,182.0 1115.0,182.0 1115.0,242.0\" fill=\"none\" stroke=\"currentColor\"/>\n",
              "    <text dy=\"1.25em\" style=\"font-size: 0.8em; letter-spacing: 1px\">\n",
              "        <textPath xlink:href=\"#arrow-97159b6ea1ca43258f4162216a8566e6-0-8\" class=\"displacy-label\" startOffset=\"50%\" side=\"left\" fill=\"currentColor\" text-anchor=\"middle\">prep</textPath>\n",
              "    </text>\n",
              "    <path class=\"displacy-arrowhead\" d=\"M1115.0,244.0 L1123.0,232.0 1107.0,232.0\" fill=\"currentColor\"/>\n",
              "</g>\n",
              "\n",
              "<g class=\"displacy-arrow\">\n",
              "    <path class=\"displacy-arc\" id=\"arrow-97159b6ea1ca43258f4162216a8566e6-0-9\" stroke-width=\"2px\" d=\"M1150,242.0 C1150,182.0 1235.0,182.0 1235.0,242.0\" fill=\"none\" stroke=\"currentColor\"/>\n",
              "    <text dy=\"1.25em\" style=\"font-size: 0.8em; letter-spacing: 1px\">\n",
              "        <textPath xlink:href=\"#arrow-97159b6ea1ca43258f4162216a8566e6-0-9\" class=\"displacy-label\" startOffset=\"50%\" side=\"left\" fill=\"currentColor\" text-anchor=\"middle\">pobj</textPath>\n",
              "    </text>\n",
              "    <path class=\"displacy-arrowhead\" d=\"M1235.0,244.0 L1243.0,232.0 1227.0,232.0\" fill=\"currentColor\"/>\n",
              "</g>\n",
              "</svg></span>"
            ],
            "text/plain": [
              "<IPython.core.display.HTML object>"
            ]
          },
          "metadata": {}
        }
      ]
    },
    {
      "cell_type": "code",
      "metadata": {
        "colab": {
          "base_uri": "https://localhost:8080/"
        },
        "id": "MgR-ehcFg_Ua",
        "outputId": "92131f2c-1e2b-49f9-9ea0-6cd6038f42da"
      },
      "source": [
        "list(document[4].ancestors)"
      ],
      "execution_count": 126,
      "outputs": [
        {
          "output_type": "execute_result",
          "data": {
            "text/plain": [
              "[]"
            ]
          },
          "metadata": {},
          "execution_count": 126
        }
      ]
    },
    {
      "cell_type": "markdown",
      "metadata": {
        "id": "yBDbKW7nkgJp"
      },
      "source": [
        "##**Similarity between word and sentences**\n"
      ]
    },
    {
      "cell_type": "code",
      "metadata": {
        "id": "gYtyDD7Ug_Rg"
      },
      "source": [
        "w1= nlp('hello')\n",
        "w2=nlp('hi')\n",
        "w3=nlp('or')"
      ],
      "execution_count": 127,
      "outputs": []
    },
    {
      "cell_type": "code",
      "metadata": {
        "colab": {
          "base_uri": "https://localhost:8080/"
        },
        "id": "xRdzfSx8g_QF",
        "outputId": "9508235c-b749-496e-a157-4107782ecc28"
      },
      "source": [
        "#calculating similarity in spacy\n",
        "\n",
        "w1.similarity(w2)"
      ],
      "execution_count": 128,
      "outputs": [
        {
          "output_type": "stream",
          "name": "stderr",
          "text": [
            "/usr/local/lib/python3.7/dist-packages/ipykernel_launcher.py:3: UserWarning: [W007] The model you're using has no word vectors loaded, so the result of the Doc.similarity method will be based on the tagger, parser and NER, which may not give useful similarity judgements. This may happen if you're using one of the small models, e.g. `en_core_web_sm`, which don't ship with word vectors and only use context-sensitive tensors. You can always add your own word vectors, or use one of the larger models instead if available.\n",
            "  This is separate from the ipykernel package so we can avoid doing imports until\n"
          ]
        },
        {
          "output_type": "execute_result",
          "data": {
            "text/plain": [
              "0.851778249322447"
            ]
          },
          "metadata": {},
          "execution_count": 128
        }
      ]
    },
    {
      "cell_type": "code",
      "metadata": {
        "colab": {
          "base_uri": "https://localhost:8080/"
        },
        "id": "EMq21b8Tg_NC",
        "outputId": "75ef5800-4745-4a9a-b6af-732fcc8ad763"
      },
      "source": [
        "w2.similarity(w1)"
      ],
      "execution_count": 129,
      "outputs": [
        {
          "output_type": "stream",
          "name": "stderr",
          "text": [
            "/usr/local/lib/python3.7/dist-packages/ipykernel_launcher.py:1: UserWarning: [W007] The model you're using has no word vectors loaded, so the result of the Doc.similarity method will be based on the tagger, parser and NER, which may not give useful similarity judgements. This may happen if you're using one of the small models, e.g. `en_core_web_sm`, which don't ship with word vectors and only use context-sensitive tensors. You can always add your own word vectors, or use one of the larger models instead if available.\n",
            "  \"\"\"Entry point for launching an IPython kernel.\n"
          ]
        },
        {
          "output_type": "execute_result",
          "data": {
            "text/plain": [
              "0.851778249322447"
            ]
          },
          "metadata": {},
          "execution_count": 129
        }
      ]
    },
    {
      "cell_type": "code",
      "metadata": {
        "colab": {
          "base_uri": "https://localhost:8080/"
        },
        "id": "wunPXp1Hg_Jo",
        "outputId": "331855ff-a8b4-4331-8f57-731e73156386"
      },
      "source": [
        "w1.similarity(w3)"
      ],
      "execution_count": 130,
      "outputs": [
        {
          "output_type": "stream",
          "name": "stderr",
          "text": [
            "/usr/local/lib/python3.7/dist-packages/ipykernel_launcher.py:1: UserWarning: [W007] The model you're using has no word vectors loaded, so the result of the Doc.similarity method will be based on the tagger, parser and NER, which may not give useful similarity judgements. This may happen if you're using one of the small models, e.g. `en_core_web_sm`, which don't ship with word vectors and only use context-sensitive tensors. You can always add your own word vectors, or use one of the larger models instead if available.\n",
            "  \"\"\"Entry point for launching an IPython kernel.\n"
          ]
        },
        {
          "output_type": "execute_result",
          "data": {
            "text/plain": [
              "0.23884662756950303"
            ]
          },
          "metadata": {},
          "execution_count": 130
        }
      ]
    },
    {
      "cell_type": "code",
      "metadata": {
        "id": "V4mzJFyyec6X"
      },
      "source": [
        "text1 = nlp('When will the new movie be released?')\n",
        "text2 = nlp('The new movie will be released next month')\n",
        "text3 = nlp('What color is the car?')"
      ],
      "execution_count": 133,
      "outputs": []
    },
    {
      "cell_type": "code",
      "metadata": {
        "colab": {
          "base_uri": "https://localhost:8080/"
        },
        "id": "jByGqGM-ec-s",
        "outputId": "cebf4dab-c1a6-474c-ada2-6ebeac38271b"
      },
      "source": [
        "text1.similarity(text2)"
      ],
      "execution_count": 134,
      "outputs": [
        {
          "output_type": "stream",
          "name": "stderr",
          "text": [
            "/usr/local/lib/python3.7/dist-packages/ipykernel_launcher.py:1: UserWarning: [W007] The model you're using has no word vectors loaded, so the result of the Doc.similarity method will be based on the tagger, parser and NER, which may not give useful similarity judgements. This may happen if you're using one of the small models, e.g. `en_core_web_sm`, which don't ship with word vectors and only use context-sensitive tensors. You can always add your own word vectors, or use one of the larger models instead if available.\n",
            "  \"\"\"Entry point for launching an IPython kernel.\n"
          ]
        },
        {
          "output_type": "execute_result",
          "data": {
            "text/plain": [
              "0.6713114919851509"
            ]
          },
          "metadata": {},
          "execution_count": 134
        }
      ]
    },
    {
      "cell_type": "code",
      "metadata": {
        "colab": {
          "base_uri": "https://localhost:8080/"
        },
        "id": "roa5OylcedBn",
        "outputId": "d8f1e981-1fee-45b7-c8cc-4a28b5b333a9"
      },
      "source": [
        "text1.similarity(text3)"
      ],
      "execution_count": 137,
      "outputs": [
        {
          "output_type": "stream",
          "name": "stderr",
          "text": [
            "/usr/local/lib/python3.7/dist-packages/ipykernel_launcher.py:1: UserWarning: [W007] The model you're using has no word vectors loaded, so the result of the Doc.similarity method will be based on the tagger, parser and NER, which may not give useful similarity judgements. This may happen if you're using one of the small models, e.g. `en_core_web_sm`, which don't ship with word vectors and only use context-sensitive tensors. You can always add your own word vectors, or use one of the larger models instead if available.\n",
            "  \"\"\"Entry point for launching an IPython kernel.\n"
          ]
        },
        {
          "output_type": "execute_result",
          "data": {
            "text/plain": [
              "0.263474601483632"
            ]
          },
          "metadata": {},
          "execution_count": 137
        }
      ]
    },
    {
      "cell_type": "code",
      "metadata": {
        "id": "KsJDgDsVlear"
      },
      "source": [
        "text = nlp('cat dog horse person')"
      ],
      "execution_count": 139,
      "outputs": []
    },
    {
      "cell_type": "code",
      "metadata": {
        "colab": {
          "base_uri": "https://localhost:8080/"
        },
        "id": "lePXW7J9leeb",
        "outputId": "5e50a100-353d-471c-a481-ecb57d1dc71f"
      },
      "source": [
        "for text1 in text:\n",
        "  print('-----', text1)\n",
        "  for text2 in text:\n",
        "    #print(text2)\n",
        "    similarity=text1.similarity(text2) * 100\n",
        "    print('{} is {}% similar to {}'.format(text1, similarity, text2))"
      ],
      "execution_count": 141,
      "outputs": [
        {
          "output_type": "stream",
          "name": "stdout",
          "text": [
            "----- cat\n",
            "cat is 100.0% similar to cat\n",
            "cat is 57.744014263153076% similar to dog\n",
            "cat is 60.72404980659485% similar to horse\n",
            "cat is 22.322461009025574% similar to person\n",
            "----- dog\n",
            "dog is 57.744014263153076% similar to cat\n",
            "dog is 100.0% similar to dog\n",
            "dog is 68.99393796920776% similar to horse\n",
            "dog is 40.91106057167053% similar to person\n",
            "----- horse\n",
            "horse is 60.72404980659485% similar to cat\n",
            "horse is 68.99393796920776% similar to dog\n",
            "horse is 100.0% similar to horse\n",
            "horse is 38.49261403083801% similar to person\n",
            "----- person\n",
            "person is 22.322461009025574% similar to cat\n",
            "person is 40.91106057167053% similar to dog\n",
            "person is 38.49261403083801% similar to horse\n",
            "person is 100.0% similar to person\n"
          ]
        },
        {
          "output_type": "stream",
          "name": "stderr",
          "text": [
            "/usr/local/lib/python3.7/dist-packages/ipykernel_launcher.py:5: UserWarning: [W007] The model you're using has no word vectors loaded, so the result of the Token.similarity method will be based on the tagger, parser and NER, which may not give useful similarity judgements. This may happen if you're using one of the small models, e.g. `en_core_web_sm`, which don't ship with word vectors and only use context-sensitive tensors. You can always add your own word vectors, or use one of the larger models instead if available.\n",
            "  \"\"\"\n"
          ]
        }
      ]
    },
    {
      "cell_type": "markdown",
      "metadata": {
        "id": "xptgJ-_Cnowg"
      },
      "source": [
        "#**TOKENIZATION**"
      ]
    },
    {
      "cell_type": "code",
      "metadata": {
        "id": "JH6owVkjlehv"
      },
      "source": [
        "document1 = nlp('I am learning natural language processing. The course is in London. Ph.d John is coming')"
      ],
      "execution_count": 142,
      "outputs": []
    },
    {
      "cell_type": "code",
      "metadata": {
        "colab": {
          "base_uri": "https://localhost:8080/"
        },
        "id": "bRAzV1Ptlek3",
        "outputId": "55db0e7a-50ff-4d00-f64b-9a61652bb05a"
      },
      "source": [
        "for token in document1:\n",
        "  print(token)"
      ],
      "execution_count": 143,
      "outputs": [
        {
          "output_type": "stream",
          "name": "stdout",
          "text": [
            "I\n",
            "am\n",
            "learning\n",
            "natural\n",
            "language\n",
            "processing\n",
            ".\n",
            "The\n",
            "course\n",
            "is\n",
            "in\n",
            "London\n",
            ".\n",
            "Ph.d\n",
            "John\n",
            "is\n",
            "coming\n"
          ]
        }
      ]
    },
    {
      "cell_type": "code",
      "metadata": {
        "colab": {
          "base_uri": "https://localhost:8080/"
        },
        "id": "kGvX-8u3lepI",
        "outputId": "1b63156d-dc33-43b4-d9a4-489b1753c927"
      },
      "source": [
        "document2 = 'I am learning natural language processing. The course is in London. Ph.d John is coming'\n",
        "document2.split('.')"
      ],
      "execution_count": 149,
      "outputs": [
        {
          "output_type": "execute_result",
          "data": {
            "text/plain": [
              "['I am learning natural language processing',\n",
              " ' The course is in London',\n",
              " ' Ph',\n",
              " 'd John is coming']"
            ]
          },
          "metadata": {},
          "execution_count": 149
        }
      ]
    }
  ]
}